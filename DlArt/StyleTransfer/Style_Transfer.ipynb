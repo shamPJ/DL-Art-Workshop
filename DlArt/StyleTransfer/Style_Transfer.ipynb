{
 "cells": [
  {
   "cell_type": "markdown",
   "metadata": {
    "id": "6msVLevwcRhm"
   },
   "source": [
    "# <center> Neural style transfer </center>\n",
    "\n",
    "<center>This notebook is a short version of https://www.tensorflow.org/tutorials/generative/style_transfer</center>\n",
    "<center>Copyright 2018 The TensorFlow Authors. </center>\n",
    "<center>Licensed under the Apache License, Version 2.0 </center>"
   ]
  },
  {
   "cell_type": "markdown",
   "metadata": {
    "id": "aDyGj8DmXCJI"
   },
   "source": [
    "This tutorial uses deep learning to compose one image in the style of another image (ever wish you could paint like Picasso or Van Gogh?). This is known as *neural style transfer* and the technique is outlined in <a href=\"https://arxiv.org/abs/1508.06576\" class=\"external\">A Neural Algorithm of Artistic Style</a> (Gatys et al.). \n",
    "\n",
    "Note: This tutorial demonstrates the original style-transfer algorithm. It optimizes the image content to a particular style. Modern approaches train a model to generate the stylized image directly (similar to [cyclegan](cyclegan.ipynb)). This approach is much faster (up to 1000x).\n",
    "\n",
    "For a simple application of style transfer check out this [tutorial](https://www.tensorflow.org/hub/tutorials/tf2_arbitrary_image_stylization) to learn more about how to use the pretrained [Arbitrary Image Stylization model](https://tfhub.dev/google/magenta/arbitrary-image-stylization-v1-256/2) from [TensorFlow Hub](https://tfhub.dev) or how to use a style transfer model with [TensorFlow Lite](https://www.tensorflow.org/lite/models/style_transfer/overview). "
   ]
  },
  {
   "cell_type": "markdown",
   "metadata": {
    "id": "1b3XwN9V1nvR"
   },
   "source": [
    "Neural style transfer is an optimization technique used to take two images—a *content* image and a *style reference* image (such as an artwork by a famous painter)—and blend them together so the output image looks like the content image, but “painted” in the style of the style reference image.\n",
    "\n",
    "This is implemented by optimizing the output image to match the content statistics of the content image and the style statistics of the style reference image. These statistics are extracted from the images using a convolutional network."
   ]
  },
  {
   "cell_type": "code",
   "execution_count": null,
   "metadata": {
    "cellView": "form",
    "id": "NyftRTSMuwue"
   },
   "outputs": [],
   "source": [
    "#@title  Import Python libraries\n",
    "\n",
    "import os\n",
    "import tensorflow as tf\n",
    "# Load compressed models from tensorflow_hub\n",
    "os.environ['TFHUB_MODEL_LOAD_FORMAT'] = 'COMPRESSED'\n",
    "\n",
    "import IPython.display as display\n",
    "\n",
    "import matplotlib.pyplot as plt\n",
    "import matplotlib as mpl\n",
    "mpl.rcParams['figure.figsize'] = (12, 12)\n",
    "mpl.rcParams['axes.grid'] = False\n",
    "\n",
    "from google.colab import drive\n",
    "drive.mount('/content/drive')\n",
    "\n",
    "import sys\n",
    "sys.path.append('/content/drive/My Drive/DlArt/StyleTransfer/')\n",
    "\n",
    "import numpy as np\n",
    "import PIL.Image\n",
    "import time\n",
    "import functools"
   ]
  },
  {
   "cell_type": "code",
   "execution_count": null,
   "metadata": {
    "cellView": "form",
    "id": "sc1OLbOWhPCO"
   },
   "outputs": [],
   "source": [
    "#@title  Download images and choose a style image and a content image\n",
    "\n",
    "#@markdown Choose one option {url or image_name} for content and style and remove any input from the other fields\n",
    "\n",
    "# functions to:\n",
    "# convert tensor to image\n",
    "def tensor_to_image(tensor):\n",
    "  tensor = tensor*255\n",
    "  tensor = np.array(tensor, dtype=np.uint8)\n",
    "  if np.ndim(tensor)>3:\n",
    "    assert tensor.shape[0] == 1\n",
    "    tensor = tensor[0]\n",
    "  return PIL.Image.fromarray(tensor)\n",
    "\n",
    "# load image\n",
    "def load_img(path_to_img):\n",
    "  max_dim = 512\n",
    "  img = tf.io.read_file(path_to_img)\n",
    "  img = tf.image.decode_image(img, channels=3)\n",
    "  img = tf.image.convert_image_dtype(img, tf.float32)\n",
    "\n",
    "  shape = tf.cast(tf.shape(img)[:-1], tf.float32)\n",
    "  long_dim = max(shape)\n",
    "  scale = max_dim / long_dim\n",
    "\n",
    "  new_shape = tf.cast(shape * scale, tf.int32)\n",
    "\n",
    "  img = tf.image.resize(img, new_shape)\n",
    "  img = img[tf.newaxis, :]\n",
    "  return img\n",
    "\n",
    "def imshow(image, title=None):\n",
    "  if len(image.shape) > 3:\n",
    "    image = tf.squeeze(image, axis=0)\n",
    "\n",
    "  plt.imshow(image)\n",
    "  if title:\n",
    "    plt.title(title)\n",
    "\n",
    "dir = \"/content/drive/My Drive/DlArt/StyleTransfer/\"\n",
    "url_content = \"\" #@param {type: \"string\"}\n",
    "img_content = \"J.jpeg\" #@param {type: \"string\"}\n",
    "\n",
    "url_style = \"\" #@param {type: \"string\"}\n",
    "img_style = \"The_Great_Wave_off_Kanagawa.jpg\" #@param {type: \"string\"}\n",
    "\n",
    "if url_content:\n",
    "  content_name = url_content.split('/')[-1]\n",
    "  content_path = tf.keras.utils.get_file(content_name, origin=url_content)\n",
    "elif img_content:\n",
    "  content_name = img_content.split('.')[0]\n",
    "  content_path =  dir + img_content\n",
    "\n",
    "if url_style:\n",
    "  name = url_style.split('/')[-1]\n",
    "  style_path = tf.keras.utils.get_file(name, origin=url_style)\n",
    "elif img_style:\n",
    "  name = img_style.split('.')[0]\n",
    "  style_path =  dir + img_style\n",
    "\n",
    "content_image = load_img(content_path)\n",
    "style_image = load_img(style_path)\n",
    "\n",
    "plt.subplot(1, 2, 1)\n",
    "imshow(content_image, 'Content Image')\n",
    "\n",
    "plt.subplot(1, 2, 2)\n",
    "imshow(style_image, 'Style Image')"
   ]
  },
  {
   "cell_type": "markdown",
   "metadata": {
    "id": "YMzChXSlKTA2"
   },
   "source": [
    "## Fast Style Transfer using TF-Hub\n",
    "\n",
    "This tutorial demonstrates the original style-transfer algorithm, which optimizes the image content to a particular style. Let's see how the [TensorFlow Hub model](https://tfhub.dev/google/magenta/arbitrary-image-stylization-v1-256/2) does this:"
   ]
  },
  {
   "cell_type": "code",
   "execution_count": null,
   "metadata": {
    "cellView": "form",
    "id": "iYSLexgRKSh-"
   },
   "outputs": [],
   "source": [
    "#@title  Run TF Hub model and save generated image\n",
    "\n",
    "import tensorflow_hub as hub\n",
    "hub_model = hub.load('https://tfhub.dev/google/magenta/arbitrary-image-stylization-v1-256/2')\n",
    "stylized_image = hub_model(tf.constant(content_image), tf.constant(style_image))[0]\n",
    "img=tensor_to_image(stylized_image)\n",
    "tf.keras.utils.save_img(dir + content_name + '_' + name + '.jpeg', img)\n",
    "\n",
    "img"
   ]
  }
 ],
 "metadata": {
  "accelerator": "GPU",
  "colab": {
   "collapsed_sections": [],
   "name": "Style_Transfer.ipynb",
   "private_outputs": true,
   "provenance": [
    {
     "file_id": "1ijony6zTTjUIvdqatI6PSYBTnPWcOM4C",
     "timestamp": 1649396818686
    },
    {
     "file_id": "https://github.com/tensorflow/docs/blob/master/site/en/tutorials/generative/style_transfer.ipynb",
     "timestamp": 1648846776650
    }
   ],
   "toc_visible": true
  },
  "kernelspec": {
   "display_name": "Python 3 (ipykernel)",
   "language": "python",
   "name": "python3"
  },
  "language_info": {
   "codemirror_mode": {
    "name": "ipython",
    "version": 3
   },
   "file_extension": ".py",
   "mimetype": "text/x-python",
   "name": "python",
   "nbconvert_exporter": "python",
   "pygments_lexer": "ipython3",
   "version": "3.7.11"
  },
  "toc": {
   "base_numbering": 1,
   "nav_menu": {},
   "number_sections": true,
   "sideBar": true,
   "skip_h1_title": false,
   "title_cell": "Table of Contents",
   "title_sidebar": "Contents",
   "toc_cell": false,
   "toc_position": {},
   "toc_section_display": true,
   "toc_window_display": false
  },
  "varInspector": {
   "cols": {
    "lenName": 16,
    "lenType": 16,
    "lenVar": 40
   },
   "kernels_config": {
    "python": {
     "delete_cmd_postfix": "",
     "delete_cmd_prefix": "del ",
     "library": "var_list.py",
     "varRefreshCmd": "print(var_dic_list())"
    },
    "r": {
     "delete_cmd_postfix": ") ",
     "delete_cmd_prefix": "rm(",
     "library": "var_list.r",
     "varRefreshCmd": "cat(var_dic_list()) "
    }
   },
   "types_to_exclude": [
    "module",
    "function",
    "builtin_function_or_method",
    "instance",
    "_Feature"
   ],
   "window_display": false
  }
 },
 "nbformat": 4,
 "nbformat_minor": 1
}
